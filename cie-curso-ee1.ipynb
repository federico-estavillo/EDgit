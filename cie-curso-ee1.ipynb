{
 "cells": [
  {
   "cell_type": "markdown",
   "metadata": {},
   "source": [
    "![Image](https://imgsvr.radiocut.site/get/thumb/600/600/cuts_logos/1b/ee/1bee0767-dace-4f3d-a5f0-79fbf70cebb9.jpg)\n",
    "![Image](https://media-exp1.licdn.com/dms/image/C4D16AQF5pRYdLLeZhA/profile-displaybackgroundimage-shrink_200_800/0/1606000288123?e=1613001600&v=beta&t=RmGrvV9Tr59hi3-CFs4_yx6UgQ0O36_lRARZOuCQxDk)\n",
    "\n",
    "# AUTOEVALUACIÓN PARA EL CURSO DE \"EFICIENCIA ENERGÉTICA ORIENTADA A PYMES INDUSTRIALES\n",
    "\n",
    "## Problema 1\n",
    "Una caldera acuotubular debe producir 10 kg/s de vapor @ 10 bar y 250°C a partir de agua tratada a 25°C.  Para ello, el sector de Compras propuso inicialmente la compra de un modelo cuya eficiencia es del 75% dado que \"el gas natural es barato\".El Equipo de Gestión de la Energía, en la reunión semanal, se puso firme y exigió la compra de un modelo que, por lo menos, tenga un 90% de eficiencia.\n",
    "\n",
    "1. ¿Cuántos m^3/s de GN se ahorra la empresa con esta decisión? Expresar en m^3/h y %.\n",
    "2. El líder del Equipo le solicita a Ud que le indique el diámetro interior de la tubería principal si el vapor circula a 5 m/s.\n",
    "3.  Ante una reunión del Equipo de Gestión de la Energía, se optó por precalentar el agua líquida antes de su ingreso a la caldera con el retorno de agua de otro proceso, logrando un aumento de 20°C. Suponiendo que se adquirió la caldera de 90% de eficiencia, describa qué impacto tiene esto en el consumo de GN (si es positivo o negativo), y cómo procedería a calcularlo para el problema en cuestión.\n",
    "4. En la misma reunión, otra parte del equipo que seguía atenta la anterior discusión y los cálculos realizados, optó por proponerse calcular la eficiencia de una caldera más antigua, también a gas natural. El problema de esta caldera es que no se pueden medir las propiedades del vapor producido o la cantidad. Lo único que saben es que la disipación por \"pérdidas de calor\" se distribuyen así: \n",
    " - los gases en chimenea tienen una potencia térmica de 0,7 kcal/s\n",
    " - la disipación por radiación resulta del orden de los 2500 W\n",
    " - las purgas contienen la misma potencia que la disipación por radiación\n",
    "    \n",
    "    Se sabe que el flujo másico de GN es de 20 m^3/h\n"
   ]
  },
  {
   "cell_type": "markdown",
   "metadata": {},
   "source": [
    "## Solución item 1.\n",
    "\n",
    "Datos de entrada:\n",
    "- Caudal másico de vapor: $\\dot{m}_v = 10 kg/s$\n",
    "- Presión de vapor: ${p_v} = 10 bar$\n",
    "- Temperatura de vapor: ${t_v} = 250°C$\n",
    "- Temperatura de agua ingreso: ${t_a} = 25°C$\n",
    "\n",
    "- Poder calorífico inferior del Gas Natural (PCI): ${PCI_g} = 9300\tkcal/m 3 = 40193,28\tkJ/m³ =\t25120,8\tkJ/kg$\n",
    "\n"
   ]
  },
  {
   "cell_type": "code",
   "execution_count": 1,
   "metadata": {},
   "outputs": [
    {
     "name": "stdout",
     "output_type": "stream",
     "text": [
      "Poder Calorífico Inferior del Gas Natural:\n",
      "24319.5 kilojoule / kilogram\n"
     ]
    }
   ],
   "source": [
    "from pint import UnitRegistry\n",
    "ureg = UnitRegistry(autoconvert_offset_to_baseunit = True)\n",
    "PCI = 9300 * ureg.kcal / ureg.meter**3 # poder calorífico inferior del gas natural, en kcal/m3\n",
    "ro_gn = 1.6 * ureg.kilogram / ureg.meter**3 # densidad del gas natural, en kg/m3\n",
    "PCI_g = (PCI/ro_gn).to(ureg.kJ / ureg.kilogram)\n",
    "print('Poder Calorífico Inferior del Gas Natural:')\n",
    "print(PCI_g)\n"
   ]
  },
  {
   "cell_type": "markdown",
   "metadata": {},
   "source": [
    "## Eficiencia del ciclo de generación del vapor\n",
    "\n",
    "\n",
    "\n",
    "\\begin{align}\n",
    "\\eta_v & = \\frac{Q_v} {Q_g} = \\frac{\\dot{m_v}*(h_2 - h_1)} {\\dot{m_g}*PCI_g}  \\\\\n",
    "\\end{align}\n",
    "\n",
    "Donde:\n",
    "\n",
    "- h1: Entalpía específica del agua saturada. \n",
    "- h2: Entalpía específica del vapor saturado.\n"
   ]
  },
  {
   "cell_type": "code",
   "execution_count": 2,
   "metadata": {
    "scrolled": true
   },
   "outputs": [
    {
     "name": "stdout",
     "output_type": "stream",
     "text": [
      "Temperatura del vapor:\n",
      "523.15 kelvin\n",
      "Presión de vapor\n",
      "1.0 pascal\n",
      "Entalpía específica del vapor (h2)\n",
      "2943.2221652336634\n",
      "Temperatura del agua:\n",
      "298.15 kelvin\n",
      "Entalpía específica del agua (h1)\n",
      "104.21102738307731\n",
      "4.296659720062035 kilogram / meter ** 3\n"
     ]
    },
    {
     "data": {
      "text/html": [
       "10.0 kilogram/second"
      ],
      "text/latex": [
       "$10.0\\ \\frac{\\mathrm{kilogram}}{\\mathrm{second}}$"
      ],
      "text/plain": [
       "10.0 <Unit('kilogram / second')>"
      ]
     },
     "execution_count": 2,
     "metadata": {},
     "output_type": "execute_result"
    }
   ],
   "source": [
    "from pint import UnitRegistry\n",
    "ureg = UnitRegistry(autoconvert_offset_to_baseunit = True)\n",
    "from iapws import IAPWS97\n",
    "Tv = 250 * ureg.degC                    # Temperatura del vapor, [C]\n",
    "Tvk = Tv.to(ureg.kelvin)                # Temperatura del vapor, [K]\n",
    "print('Temperatura del vapor:')\n",
    "print(Tvk)\n",
    "Pv = 10 * ureg.bar                      # Presión del vapor, [bar]\n",
    "Pvp = Pv.to(ureg.pascal)/1000000        # Pressure, [MPa]\n",
    "print('Presión de vapor')\n",
    "print(Pvp)\n",
    "steam=IAPWS97(P=1, T=523.15)               #steam with known P and T\n",
    "print('Entalpía específica del vapor (h2)')\n",
    "print(steam.h) #calculated enthalpies\n",
    "\n",
    "Ta = 25 * ureg.degC                       # Temperatura del agua, [C]\n",
    "Tak = Ta.to(ureg.kelvin)                  # Temperatura del agua, [K]\n",
    "print('Temperatura del agua:')\n",
    "print(Tak)\n",
    "sat_liquid=IAPWS97(T=298, x=0)            #saturated liquid with known T\n",
    "print('Entalpía específica del agua (h1)')\n",
    "print(sat_liquid.h) #calculated enthalpies\n",
    "h1= sat_liquid.h\n",
    "h2= steam.h\n",
    "print(steam.rho * ureg.kg / ureg.m**3)\n",
    "q_mas_vap = 10 * ureg.kg / ureg.second\n",
    "q_mas_vap"
   ]
  },
  {
   "cell_type": "markdown",
   "metadata": {},
   "source": [
    "## Caudal másico de Gas Natural - Eficiencia 90% y 75%\n",
    "\n",
    "\n",
    "\n",
    "\\begin{align}\n",
    "\\dot{m_g} & = \\frac{\\dot{m_v}*(h_2 - h_1)} {\\eta_v*PCI_g}  \\\\\n",
    "\\end{align}\n",
    "\n",
    "Donde:\n",
    "\n",
    "- h1: Entalpía específica del agua saturada. ${h_1} = 104,21 kJ/kg$\n",
    "- h2: Entalpía específica del vapor saturado. ${h_2} = 2943,22 kJ/kg$\n",
    "\n",
    "### Resultando:\n",
    "- Caudal másico horario GN - Eficiencia 90%:   $\\dot{m_g} = 4669.52 kg/h$\n",
    "- Caudal másico horario GN - Eficiencia 75%:   $\\dot{m_g} = 5603.42 kg/h$\n",
    "\n",
    "- Caudal volumétrico horario GN - Eficiencia 90%: $\\dot{v_g} = 2918.45 m3/h$\n",
    "- Caudal volumetrico horario GN - Eficiencia 75%: $\\dot{v_g} = 3502.14 m3/h$\n",
    "\n",
    "###  Estimación de Ahorro por cambio de equipamiento: \n",
    "- Ahorro de caudal: 933.90 m3/h\n",
    "- Ahorro porcentual: 16%\n",
    "\n"
   ]
  },
  {
   "cell_type": "code",
   "execution_count": 3,
   "metadata": {},
   "outputs": [
    {
     "name": "stdout",
     "output_type": "stream",
     "text": [
      "Caudal másico horario de vapor:\n",
      "36000.0 kilogram / hour\n",
      "2943.2221652336634\n",
      "104.21102738307731\n",
      "24319.5 kilojoule / kilogram\n",
      "Caudal másico horario GN - Eficiencia 90%\n",
      "4669.520343757067\n",
      "Caudal másico horario GN - Eficiencia 75%\n",
      "5603.42441250848\n",
      "Caudal volumétrico horario GN - Eficiencia 90%\n",
      "2918.4502148481665\n",
      "Caudal volumetrico horario GN - Eficiencia 75%\n",
      "3502.1402578178\n",
      "933.9040687514125\n",
      "16.66666666666665\n"
     ]
    }
   ],
   "source": [
    "from pint import UnitRegistry\n",
    "ureg = UnitRegistry(autoconvert_offset_to_baseunit = True)\n",
    "m_v = 10 * ureg.kg / ureg.second        #caudal= 10 kg/s\n",
    "m_vh = m_v.to(ureg.kg / ureg.hour)\n",
    "print(\"Caudal másico horario de vapor:\")\n",
    "print(m_vh)\n",
    "eta90 = 0.9\n",
    "eta75 = 0.75\n",
    "print(h2)\n",
    "print(h1)\n",
    "print(PCI_g)\n",
    "m_g90 = (36000 * (2943.22 - 104.21) / (eta90 * 24319.5) )\n",
    "print(\"Caudal másico horario GN - Eficiencia 90%\")\n",
    "print((36000 * (2943.22 - 104.21) / (eta90 * 24319.5) ))\n",
    "m_g75 = (36000 * (2943.22 - 104.21) / (eta75 * 24319.5) )\n",
    "print(\"Caudal másico horario GN - Eficiencia 75%\")\n",
    "print((36000 * (2943.22 - 104.21) / (eta75 * 24319.5) ))\n",
    "\n",
    "print(\"Caudal volumétrico horario GN - Eficiencia 90%\")\n",
    "print((36000 * (2943.22 - 104.21) / (eta90 * 24319.5 * 1.6) ))\n",
    "print(\"Caudal volumetrico horario GN - Eficiencia 75%\")\n",
    "print((36000 * (2943.22 - 104.21) / (eta75 * 24319.5 * 1.6) ))\n",
    "ahorro_vol = (m_g75 - m_g90)\n",
    "ahorro_rel = (m_g75 - m_g90) / m_g75 * 100\n",
    "print(ahorro_vol)\n",
    "print(ahorro_rel)"
   ]
  },
  {
   "cell_type": "markdown",
   "metadata": {},
   "source": [
    "## Solución item 2.\n",
    "Determinar el diámetro interior de la tubería para que circule vapor a 5 m/s\n",
    "\n",
    "### Datos\n",
    "\n",
    "- Velocidad del vapor: ${v_{vap}} = 5 m/s$\n",
    "- Densidad del vapor: $\\rho_v= 4,29 kg/m3$\n",
    "\n",
    "Caudal volumétrico del vapor: $\\dot{v_v} = {v_{vap}} * {A} = 2,33 m3/s$\n",
    "\n",
    "Se debe determinar el área A de la tubería, para luego conocer el diámetro interior.\n",
    "\n",
    "\\begin{align}\n",
    "\\ A = \\frac{\\dot{v_v}} {v_{vap}} = 0.46 m2 \\\\\n",
    "\\end{align}\n",
    "\n",
    "\n",
    "Luego, el diámetro mínimo resultante de la cañeria será: ${D} = 0.769 m$\n",
    "\n"
   ]
  },
  {
   "cell_type": "code",
   "execution_count": 6,
   "metadata": {},
   "outputs": [
    {
     "name": "stdout",
     "output_type": "stream",
     "text": [
      "4.296659720062035 kilogram / meter ** 3\n",
      "10.0 kilogram / second\n",
      "2.327389332999268 meter ** 3 / second\n",
      "2.327389332999268 meter ** 3 / second\n",
      "Area:\n",
      "0.4654778665998536 meter ** 2\n",
      "radio2\n",
      "0.14816620673847308 meter ** 2\n",
      "Diametro: \n",
      "0.7698472750837613\n"
     ]
    }
   ],
   "source": [
    "import math\n",
    "dens_vapor = steam.rho * ureg.kg / ureg.m**3            #Densidad del vapor en [kg/m3]\n",
    "q_vol_vap = q_mas_vap / dens_vapor\n",
    "print(dens_vapor)\n",
    "print(q_mas_vap)\n",
    "print(q_vol_vap)                       #caudal volumetrico del vapor en [m3/s]\n",
    "print(q_vol_vap.to_reduced_units())\n",
    "vel_vap = 5 * ureg.m / ureg.s\n",
    "area = q_vol_vap / vel_vap\n",
    "print(\"Area:\")\n",
    "print(area)\n",
    "pi = math.pi\n",
    "radio2= area / pi\n",
    "print(\"radio2\")\n",
    "print(radio2)\n",
    "diametro = 2 * math.sqrt(0.14816620673847308)\n",
    "print(\"Diametro: \")\n",
    "print(diametro)\n",
    "#print(math.sqrt(radio2))\n"
   ]
  },
  {
   "cell_type": "markdown",
   "metadata": {},
   "source": [
    "## Solución item 3.\n",
    "c) Ante una reunión del Equipo de Gestión de la Energía, se optó por precalentar el agua líquida antes de su ingreso a la caldera con el retorno de agua de otro proceso, logrando un aumento de 20°C. Suponiendo que se adquirió la caldera de 90% de eficiencia, describa qué impacto tiene esto en el consumo de GN (si es positivo o negativo), y cómo procedería a calcularlo para el problema en cuestión.\n",
    "\n",
    "### Datos\n",
    "\n",
    "\n",
    "## Caudal másico de Gas Natural - Eficiencia 90% y Temperatura de agua de ingreso de 45°C\n",
    "\n",
    "\n",
    "\n",
    "\\begin{align}\n",
    "\\dot{m_g} & = \\frac{\\dot{m_v}*(h_2 - h_1)} {\\eta_v*PCI_g}  \\\\\n",
    "\\end{align}\n",
    "\n",
    "Donde:\n",
    "\n",
    "- h1(25°C): Entalpía específica del agua saturada. ${h_1}_{25C} = 104.21 kJ/kg$\n",
    "- h1(45°C): Entalpía específica del agua saturada. ${h_1}_{45C} =  104.83 kJ/kg$\n",
    "- h2: Entalpía específica del vapor saturado. ${h_2} = 2943.22 kJ/kg$\n",
    "\n",
    "### Resultando:\n",
    "- Caudal másico horario GN - Eficiencia 90% - Temperatura agua de ingreso 25°C:   $\\dot{m_g} = 4669.52 kg/h$\n",
    "\n",
    "- Caudal másico horario GN - Eficiencia 90% - Temperatura agua de ingreso 45°C:   $\\dot{m_g} = 4668.48 kg/h$\n",
    "\n",
    "#### `Ahorro por aumento de temperatura de entrada: 0.02%`\n",
    "\n",
    "Se concluye que resulta despreciable el ahorro ante el aumento de 20°C en el ingreso de agua\n"
   ]
  },
  {
   "cell_type": "code",
   "execution_count": 5,
   "metadata": {},
   "outputs": [
    {
     "name": "stdout",
     "output_type": "stream",
     "text": [
      "Temperatura del agua:\n",
      "298.15 kelvin\n",
      "Entalpía específica del agua (h1)\n",
      "104.83838586274732\n",
      "4.296659720062035 kilogram / meter ** 3\n",
      "Caudal másico horario GN - Eficiencia 90% - Temp agua = 45C\n",
      "4668.484138242973\n",
      "0.02227209648959364\n"
     ]
    }
   ],
   "source": [
    "# Calcular la entalpía del agua a 45°C\n",
    "#from pint import UnitRegistry\n",
    "#ureg = UnitRegistry(autoconvert_offset_to_baseunit = True)\n",
    "#from iapws import IAPWS97\n",
    "#Tv = 250 * ureg.degC                    # Temperatura del vapor, [C]\n",
    "#Tvk = Tv.to(ureg.kelvin)                # Temperatura del vapor, [K]\n",
    "#print('Temperatura del vapor:')\n",
    "#print(Tvk)\n",
    "#Pv = 10 * ureg.bar                      # Presión del vapor, [bar]\n",
    "#Pvp = Pv.to(ureg.pascal)/1000000        # Pressure, [MPa]\n",
    "#print('Presión de vapor')\n",
    "#print(Pvp)\n",
    "#steam=IAPWS97(P=1, T=523.15)               #steam with known P and T\n",
    "#print('Entalpía específica del vapor (h2)')\n",
    "#print(steam.h) #calculated enthalpies\n",
    "\n",
    "Ta2 = 45 * ureg.degC                       # Temperatura del agua, [C]\n",
    "Ta2k = Ta.to(ureg.kelvin)                  # Temperatura del agua, [K]\n",
    "print('Temperatura del agua:')\n",
    "print(Ta2k)\n",
    "sat_liquid=IAPWS97(T=298.15, x=0)            #saturated liquid with known T\n",
    "print('Entalpía específica del agua (h1)')\n",
    "print(sat_liquid.h) #calculated enthalpies\n",
    "h1= sat_liquid.h\n",
    "h2= steam.h\n",
    "print(steam.rho * ureg.kg / ureg.m**3)\n",
    "q_mas_vap = 10 * ureg.kg / ureg.second\n",
    "q_mas_vap\n",
    "\n",
    "print(\"Caudal másico horario GN - Eficiencia 90% - Temp agua = 45C\")\n",
    "print((36000 * (2943.22 - 104.84) / (eta90 * 24319.5) ))\n",
    "\n",
    "mejora= (4669.52 - 4668.48) / 4669.52 *100\n",
    "print(mejora)"
   ]
  },
  {
   "cell_type": "markdown",
   "metadata": {},
   "source": [
    "## Item 4 - Solución\n",
    "\n",
    "Objetivo: calcular la eficiencia de la vieja caldera, conociendo únicamente que la disipación por \"pérdidas de calor\" se distribuyen así:\n",
    "\n",
    " - los gases en chimenea tienen una potencia térmica de 0,7 kcal/s\n",
    " - la disipación por radiación resulta del orden de los 2500 W\n",
    " - las purgas contienen la misma potencia que la disipación por radiación\n",
    "    \n",
    "    Se sabe que el flujo másico de GN es de 20 m^3/h\n",
    "    \n",
    "Si definimos a cada una de las pérdidas anteriores con el símbolo $\\lambda$, podemos utilizar el método denominado \"indirecto\" para obtener la eficiencia resultante:\n",
    "\n",
    "\\begin{equation*}\n",
    "\\eta_{indirecto} = 100 \\% - \\sum_{k=1}^n \\lambda_k \\\\\n",
    "\\end{equation*}\n",
    "\n",
    "- Gases de chimenea: $\\lambda_1$ = 0,7 kcal/s\n",
    "- Disipación por radiación: $\\lambda_2$ = 2500 W\n",
    "- Disipación por purgas: $\\lambda_3$ = 2500 W\n",
    "\n",
    "`Perdidas totales: 7928.79 W`\n",
    "\n",
    " - Flujo masico de GN = 20 m3/h        (másico o volumetrico???)\n",
    " \n",
    " - ${PCI_g} = 9300\tkcal/m 3$\n",
    " \n",
    " Calor = 20 m3/h * 9300 kcal/m3 = 186000.0 kcal/h = 216173.3 watt\n",
    " \n",
    "### `Eficiencia resultante: 96,3%`\n",
    " "
   ]
  },
  {
   "cell_type": "code",
   "execution_count": null,
   "metadata": {},
   "outputs": [],
   "source": [
    "lambda1 = 0.7 * ureg.kilocal / ureg.sec\n",
    "print(lambda1.to(ureg.watt))\n",
    "print(\"Perdidas totales en [W]:\")\n",
    "lambda_tot = 2500 * ureg.watt + 2500 * ureg.watt + lambda1.to(ureg.watt)\n",
    "#print(2500 * ureg.watt + 2500 * ureg.watt + lambda1.to(ureg.watt))\n",
    "print(lambda_tot)\n",
    "print(\"Calor del GN: \")\n",
    "gas =  20 * ureg.m**3/ureg.hour * 9300 * ureg.kcal/ureg.m**3\n",
    "print(gas)\n",
    "gas1 = gas.to(ureg.watt)\n",
    "print(gas1)\n",
    "#print(gas.to(ureg.watt))\n",
    "print(\"Eficiencia resultante:\")\n",
    "print((1 - lambda_tot / gas1) * 100)"
   ]
  },
  {
   "cell_type": "markdown",
   "metadata": {},
   "source": [
    "## Problema 2\n",
    "Una industria avícola desea ver la posibilidad de utilizar un sistema de refrigeración central que usan en verano como bomba de calor en invierno \t\n",
    "(que emplea un ciclo ideal sin sobreenfriamiento y compresión en una etapa).\n",
    "\n",
    "Para ello, O&M proveyó de los valores de las entalpías del refrigerante empleado (NH3 en este caso) de los estados correspondientes al ciclo de funcionamiento:\n",
    "- Entalpía al ingreso del compresor: 396 kcal/kg\n",
    "- Entalpía a la salida del compresor: 440 kcal/kg\n",
    "- Entalpía antes del ingreso al evaporador: 136 kcal/kg\n",
    "\n",
    "El Gerente de O&M le solicita:\n",
    "\n",
    "a) el COP del sistema en verano [%]\n",
    "b) el COP del sistema en invierno [%]\n",
    "c) el consumo de energía útil diario estimado considerando 10 hs cuando circulan 0.5 kg/s [kWh]. \n",
    "Nota: a pesar de la relación factor de carga-factor de potencia, considere este último igual a 1 (únicamente a los fines de este problema).\n",
    "d) la potencia térmica aprovechable producto de la liberación de calor [kcal/h]\n",
    "\n"
   ]
  },
  {
   "cell_type": "markdown",
   "metadata": {},
   "source": [
    "## Problema 3\n",
    "A petición de Ingeniería de Procesos para poder cubrir la inusual demanda que están teniendo, el Equipo de Gestión de la Energía \n",
    "propone un análisis de mercado para evaluar si el recambio tecnológico del motor de una cinta transportadora es rentable en la relación\n",
    "costo-beneficio (si la demanda luego baja, no recuperamos más la inversión, murmuraron hacia el final de la reunión).\n",
    "El motor de 30 kW y con etiqueta IE1, en el período enero-mayo, funcionaba durante 10 hs y el horómetro marcaba 4 hs \n",
    "a plena carga. En el trimestre siguiente (de junio a septiembre), el horómetro comenzó a registrar el doble de tiempo hs a plena carga.  \n",
    "\n",
    "El líder del Equipo le solicita:\n",
    "    \n",
    "a) estimar la energía útil entregada por el motor diaria en el período de enero-mayo.\n",
    "b) estimar la energía secundaria consumida por el motor diaria en el período de enero-mayo (emplear la diapositiva 64 considerando que rend(f = 0.5)) = rend(f = 1) = 0.84 para este motor).\n",
    "c) ídem a para el período junio-septiembre.\n",
    "d) ídem b para el período junio-septiembre.\n",
    "e) elabore un análisis (de no más de un párrafo) con los resultados anteriores.\n",
    "f) \"por esas casualidades\" se le ocurre sugerir un certificado de calibración del horómetro. Se lleva a laboratorio y el informe luego indica que no estaba calibrado. \n",
    "¿Cómo le parece que impacta esta situación ante el recambio planteado?\n"
   ]
  }
 ],
 "metadata": {
  "kernelspec": {
   "display_name": "Python 3",
   "language": "python",
   "name": "python3"
  },
  "language_info": {
   "codemirror_mode": {
    "name": "ipython",
    "version": 3
   },
   "file_extension": ".py",
   "mimetype": "text/x-python",
   "name": "python",
   "nbconvert_exporter": "python",
   "pygments_lexer": "ipython3",
   "version": "3.6.9"
  }
 },
 "nbformat": 4,
 "nbformat_minor": 4
}
