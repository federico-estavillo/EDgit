{
 "cells": [
  {
   "source": [
    "## Problema 3\n",
    "A petición de Ingeniería de Procesos para poder cubrir la inusual demanda que están teniendo, el Equipo de Gestión de la Energía \n",
    "propone un análisis de mercado para evaluar si el recambio tecnológico del motor de una cinta transportadora es rentable en la relación\n",
    "costo-beneficio (si la demanda luego baja, no recuperamos más la inversión, murmuraron hacia el final de la reunión).\n",
    "El motor de 30 kW y con etiqueta IE1, en el período enero-mayo, funcionaba durante 10 hs y el horómetro marcaba 4 hs \n",
    "a plena carga. En el trimestre siguiente (de junio a septiembre), el horómetro comenzó a registrar el doble de tiempo hs a plena carga.  \n",
    "\n",
    "El líder del Equipo le solicita:\n",
    "\n",
    " a)estimar la energía útil entregada por el motor diaria en el período de enero-mayo.\n",
    "\n",
    " b) estimar la energía secundaria consumida por el motor diaria en el período de enero-mayo (emplear la diapositiva 64 considerando que rend(f = 0.5)) = rend(f = 1) = 0.84 para este motor).\n",
    "\n",
    " c) ídem a para el período junio-septiembre.\n",
    " \n",
    " d) ídem b para el período junio-septiembre.\n",
    " \n",
    " e) elabore un análisis (de no más de un párrafo) con los resultados anteriores.\n",
    " \n",
    "f) \"por esas casualidades\" se le ocurre sugerir un certificado de calibración del horómetro. Se lleva a laboratorio y el informe luego indica que no estaba calibrado. ¿Cómo le parece que impacta esta situación ante el recambio planteado?\n",
    "\n",
    "\n",
    "PAR CONSTANTE Y VARIABLE\n",
    "P =M∙ω\n",
    "M =F∙d\n",
    "F =m∙a\n",
    "Si la masa permanece constante, los requisitos del par también lo\n",
    "serán, independientemente de la velocidad.\n",
    "Si la masa varía con la velocidad, el par varía según varíe la velocidad.\n",
    "\n",
    "Ejemplos de par constante:\n",
    "Cintas transportadoras | Grúas | Me\n",
    "\n"
   ],
   "cell_type": "markdown",
   "metadata": {}
  },
  {
   "cell_type": "code",
   "execution_count": null,
   "metadata": {},
   "outputs": [],
   "source": [
    "#Datos:\n",
    "pot = 30.      #Potencia del motor kW - Eficiencia IE1\n",
    "eta = 0.84     #Eficiencia \n",
    "\n",
    "\n",
    "\n",
    "h3 = 136.      #Entalpía antes del ingreso al evaporador (h3) en kJ/kg\n",
    "h4 = h3\n",
    "qmNH3 = 0.5    #Caudal masico del refrigerante en kg/s\n",
    "\n",
    "\n",
    "#Solucion:\n",
    "COPref = (h1 - h4) / (h2 - h1)    #CoefOfPerformance Refrigeración\n",
    "COPbc = (h2 - h3) / (h2 - h1)     #CoefOfPerformance Bomba de Calor\n",
    "\n",
    "# Dado que la tasa de eliminación de calor del espacio refrigerado Ql. (kW) se calcula:\n",
    "Ql = qmNH3 * (h1 - h4)\n",
    "# Dado que la entrada de potencia al compresor Wentrada.  (kW)  se calcula:\n",
    "We = qmNH3 * (h2 - h1)\n",
    "# Dado que la Tasa de rechazo de calor del refrigerante al ambiente Qh.  (kW)  se calcula:\n",
    "Qh = qmNH3 * (h2 - h3)\n",
    "\n",
    "\n",
    "#Resultados:\n",
    "print(\"COP refrigeración = %.1f \"%COPref)\n",
    "print(\"COP bomba de calor = %.1f \"%COPbc)\n",
    "print(\"Tasa de eliminación de calor Ql = %.1f kW\"%Ql)\n",
    "print(\"Potencia de entrada al compresor We = %.1f kW\"%We)\n",
    "print(\"Tasa de rechazo de Calor Qh = %.1f kW\"%Qh)\n",
    "print(\"Tasa de Rechazo de calor al ambiente Qh = %.1f kcal/h\"%(Qh*859.85))"
   ]
  }
 ],
 "metadata": {
  "kernelspec": {
   "display_name": "Python 3.6.8 64-bit",
   "language": "python",
   "name": "python36864bitd4b69994a69247a486df2afbd8db5ebf"
  },
  "language_info": {
   "codemirror_mode": {
    "name": "ipython",
    "version": 3
   },
   "file_extension": ".py",
   "mimetype": "text/x-python",
   "name": "python",
   "nbconvert_exporter": "python",
   "pygments_lexer": "ipython3",
   "version": "3.6.8-final"
  }
 },
 "nbformat": 4,
 "nbformat_minor": 4
}