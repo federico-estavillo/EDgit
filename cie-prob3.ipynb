{
 "cells": [
  {
   "cell_type": "markdown",
   "metadata": {},
   "source": [
    "## Problema 3\n",
    "A petición de Ingeniería de Procesos para poder cubrir la inusual demanda que están teniendo, el Equipo de Gestión de la Energía \n",
    "propone un análisis de mercado para evaluar si el recambio tecnológico del motor de una cinta transportadora es rentable en la relación\n",
    "costo-beneficio (si la demanda luego baja, no recuperamos más la inversión, murmuraron hacia el final de la reunión).\n",
    "El motor de 30 kW y con etiqueta IE1, en el período enero-mayo, funcionaba durante 10 hs y el horómetro marcaba 4 hs \n",
    "a plena carga. En el trimestre siguiente (de junio a septiembre), el horómetro comenzó a registrar el doble de tiempo hs a plena carga.  \n",
    "\n",
    "El líder del Equipo le solicita:\n",
    "    \n",
    "a) estimar la energía útil entregada por el motor diaria en el período de enero-mayo.\n",
    "b) estimar la energía secundaria consumida por el motor diaria en el período de enero-mayo (emplear la diapositiva 64 considerando que rend(f = 0.5)) = rend(f = 1) = 0.84 para este motor).\n",
    "c) ídem a para el período junio-septiembre.\n",
    "d) ídem b para el período junio-septiembre.\n",
    "e) elabore un análisis (de no más de un párrafo) con los resultados anteriores.\n",
    "f) \"por esas casualidades\" se le ocurre sugerir un certificado de calibración del horómetro. Se lleva a laboratorio y el informe luego indica que no estaba calibrado. \n",
    "¿Cómo le parece que impacta esta situación ante el recambio planteado?\n"
   ]
  },
  {
   "cell_type": "code",
   "execution_count": 11,
   "metadata": {},
   "outputs": [
    {
     "name": "stdout",
     "output_type": "stream",
     "text": [
      "Energia al 100% de carga\n",
      "18120\n",
      "Energia al 50% de carga\n",
      "13590.0\n",
      "Energia util primer trimestre:\n",
      "26636.399999999998\n",
      "Energia Diaria util primer trimestre:\n",
      "176.39999999999998\n"
     ]
    }
   ],
   "source": [
    "pot100 = 30   # Potencia nominal en kW\n",
    "pot50 = pot100 / 2  # Potencia al 50% de carga. Como se trata de una aplicación a par constante, la curva de carga es lineal con la velocidad.\n",
    "eta_E1 = 0.84    # Eficiencia promedio E1 según enunciado\n",
    "dias_1er = 3 * 31 + 28 +30  # Suma de los días del 1er trimestre - Enero a Mayo\n",
    "dias_1er\n",
    "horas_100 = 4 * dias_1er   # 4 horas al 100% de carga\n",
    "horas_100\n",
    "energia_100 = horas_100 * pot100  # Energia con carga al 100% en el primer trimestre\n",
    "energia_100\n",
    "print(\"Energia al 100% de carga\")\n",
    "print(energia_100)\n",
    "horas_50 = 6 * dias_1er  # Se asume que el resto de las horas trabaja al 50% de carga.\n",
    "energia_50 = horas_50 * pot50\n",
    "print(\"Energia al 50% de carga\")\n",
    "print(energia_50)\n",
    "energia_util = (energia_100 + energia_50) * eta_E1\n",
    "print(\"Energia util primer trimestre:\")\n",
    "print(energia_util)\n",
    "print(\"Energia Diaria util primer trimestre:\")\n",
    "print(energia_util/dias_1er)"
   ]
  },
  {
   "cell_type": "markdown",
   "metadata": {},
   "source": [
    "### Solución Item a)\n",
    "\n",
    "La energía útil entregada por el motor diaria en el período de enero-mayo es de **176.4 kWh**"
   ]
  },
  {
   "cell_type": "markdown",
   "metadata": {},
   "source": [
    "### Solución Item b)\n",
    "\n",
    "Estimar la energía secundaria consumida por el motor diaria en el período de enero-mayo (emplear la diapositiva 64 considerando que rend(f = 0.5)) = rend(f = 1) = 0.84 para este motor).\n",
    "\n",
    "Se asume que el rendimiento promedio es del 84%, y el factor de potencia del motor es 0,95.\n",
    "\n",
    "Luego, la energía secundaria diaria para el primer trimestre es de **221.05 kVA**\n"
   ]
  },
  {
   "cell_type": "code",
   "execution_count": 13,
   "metadata": {},
   "outputs": [
    {
     "name": "stdout",
     "output_type": "stream",
     "text": [
      "Energía secundaria diaria primer trimestre\n",
      "221.05263157894737\n"
     ]
    }
   ],
   "source": [
    "PF = 0.95  # Factor de potencia supuesto\n",
    "energia_sec = (energia_util/(dias_1er * PF * eta_E1))   # Energía secundaria en kVA\n",
    "print(\"Energía secundaria diaria primer trimestre\")\n",
    "print(energia_sec)"
   ]
  }
 ],
 "metadata": {
  "kernelspec": {
   "display_name": "Python 3",
   "language": "python",
   "name": "python3"
  },
  "language_info": {
   "codemirror_mode": {
    "name": "ipython",
    "version": 3
   },
   "file_extension": ".py",
   "mimetype": "text/x-python",
   "name": "python",
   "nbconvert_exporter": "python",
   "pygments_lexer": "ipython3",
   "version": "3.6.9"
  }
 },
 "nbformat": 4,
 "nbformat_minor": 4
}
